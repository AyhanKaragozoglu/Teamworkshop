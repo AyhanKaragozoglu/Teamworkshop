{
  "nbformat": 4,
  "nbformat_minor": 0,
  "metadata": {
    "colab": {
      "provenance": [],
      "authorship_tag": "ABX9TyPvRzVHGeayetRVEgkoHMMJ",
      "include_colab_link": true
    },
    "kernelspec": {
      "name": "python3",
      "display_name": "Python 3"
    },
    "language_info": {
      "name": "python"
    }
  },
  "cells": [
    {
      "cell_type": "markdown",
      "metadata": {
        "id": "view-in-github",
        "colab_type": "text"
      },
      "source": [
        "<a href=\"https://colab.research.google.com/github/AyhanKaragozoglu/Teamworkshop/blob/main/Teamwork_Schedule5_25_2022.ipynb\" target=\"_parent\"><img src=\"https://colab.research.google.com/assets/colab-badge.svg\" alt=\"Open In Colab\"/></a>"
      ]
    },
    {
      "cell_type": "code",
      "execution_count": null,
      "metadata": {
        "id": "PAGi1S1ZgRic"
      },
      "outputs": [],
      "source": [
        "count, fruit, price = (2, 'apple', 3.5)"
      ]
    },
    {
      "cell_type": "code",
      "source": [
        "def printMax(a, b):\n",
        "    if a > b:\n",
        "        print(a, 'is maximum')\n",
        "    elif a == b:\n",
        "        print(a, 'is equal to', b)\n",
        "    else:\n",
        "        print(b, 'is maximum')\n",
        "printMax(3, 4)"
      ],
      "metadata": {
        "colab": {
          "base_uri": "https://localhost:8080/"
        },
        "id": "mwoLibRFgm9x",
        "outputId": "a960e010-b62f-4936-d9df-2bddee18b3d9"
      },
      "execution_count": null,
      "outputs": [
        {
          "output_type": "stream",
          "name": "stdout",
          "text": [
            "4 is maximum\n"
          ]
        }
      ]
    },
    {
      "cell_type": "code",
      "source": [
        "x = 50\n",
        "def func(x):\n",
        "    print('x is', x)\n",
        "    x = 2\n",
        "    print('Changed local x to', x)\n",
        "func(x)\n",
        "print('x is now', x)"
      ],
      "metadata": {
        "colab": {
          "base_uri": "https://localhost:8080/"
        },
        "id": "MNrOsOmagszO",
        "outputId": "fb3c4e86-08f8-4971-e01a-a167a0370bbf"
      },
      "execution_count": null,
      "outputs": [
        {
          "output_type": "stream",
          "name": "stdout",
          "text": [
            "x is 50\n",
            "Changed local x to 2\n",
            "x is now 50\n"
          ]
        }
      ]
    },
    {
      "cell_type": "code",
      "source": [
        "def function1(var1=5, var2=7):\n",
        "    var2=9\n",
        "    var1=3\n",
        "    print (var1, \" \", var2)\n",
        "function1(10,12)"
      ],
      "metadata": {
        "colab": {
          "base_uri": "https://localhost:8080/"
        },
        "id": "ug2lgytrgvue",
        "outputId": "d2f4ba43-4d0d-4ea4-bb6f-fd943a35c308"
      },
      "execution_count": null,
      "outputs": [
        {
          "output_type": "stream",
          "name": "stdout",
          "text": [
            "3   9\n"
          ]
        }
      ]
    },
    {
      "cell_type": "code",
      "source": [
        "def san(x):\n",
        "    print(x+1)\n",
        "x=-2\n",
        "x=4\n",
        "san(12)"
      ],
      "metadata": {
        "colab": {
          "base_uri": "https://localhost:8080/"
        },
        "id": "wX-BvdAbg2qv",
        "outputId": "25f8f992-3e08-4b6c-a52f-3e8aecdcc84c"
      },
      "execution_count": null,
      "outputs": [
        {
          "output_type": "stream",
          "name": "stdout",
          "text": [
            "13\n"
          ]
        }
      ]
    },
    {
      "cell_type": "code",
      "source": [
        "def foo(fname, val):\n",
        "    print(fname(val))\n",
        "foo(max, [1, 2, 3])\n",
        "foo(min, [1, 2, 3])"
      ],
      "metadata": {
        "colab": {
          "base_uri": "https://localhost:8080/"
        },
        "id": "Jctthay3g5JE",
        "outputId": "ae03284a-a319-45e9-b891-9239adbe893e"
      },
      "execution_count": null,
      "outputs": [
        {
          "output_type": "stream",
          "name": "stdout",
          "text": [
            "3\n",
            "1\n"
          ]
        }
      ]
    },
    {
      "cell_type": "code",
      "source": [
        "\n",
        "f=lambda x:bool(x%2)\n",
        "print(f(20), f(21))\n"
      ],
      "metadata": {
        "colab": {
          "base_uri": "https://localhost:8080/"
        },
        "id": "_YU5_Jreg9iC",
        "outputId": "70f30f62-bff2-4518-9930-2dc6b7200b8c"
      },
      "execution_count": null,
      "outputs": [
        {
          "output_type": "stream",
          "name": "stdout",
          "text": [
            "False True\n"
          ]
        }
      ]
    },
    {
      "cell_type": "code",
      "source": [
        "import random\n",
        "random.randrange(0,91,5)"
      ],
      "metadata": {
        "colab": {
          "base_uri": "https://localhost:8080/"
        },
        "id": "Eyog6-AyhCTP",
        "outputId": "b872c818-fdbe-4bc8-f780-2fe688963893"
      },
      "execution_count": null,
      "outputs": [
        {
          "output_type": "execute_result",
          "data": {
            "text/plain": [
              "0"
            ]
          },
          "metadata": {},
          "execution_count": 18
        }
      ]
    },
    {
      "cell_type": "code",
      "source": [
        "def foo():\n",
        "    try:\n",
        "        return 1\n",
        "    finally:\n",
        "        return 2\n",
        "k = foo()\n",
        "print(k)"
      ],
      "metadata": {
        "colab": {
          "base_uri": "https://localhost:8080/"
        },
        "id": "e6C5yK0XhGti",
        "outputId": "596e8913-aa9b-486c-aa62-77eab1082143"
      },
      "execution_count": null,
      "outputs": [
        {
          "output_type": "stream",
          "name": "stdout",
          "text": [
            "2\n"
          ]
        }
      ]
    },
    {
      "cell_type": "code",
      "source": [
        "def f(x, y, z): return x + y + z\n",
        "print(f(2, 30, 400))"
      ],
      "metadata": {
        "colab": {
          "base_uri": "https://localhost:8080/"
        },
        "id": "ubgbLR32hKZM",
        "outputId": "0553dd62-fab0-4b2f-9eaa-d7390449ce39"
      },
      "execution_count": null,
      "outputs": [
        {
          "output_type": "stream",
          "name": "stdout",
          "text": [
            "432\n"
          ]
        }
      ]
    },
    {
      "cell_type": "code",
      "source": [
        "print({a**2 for a in range(4)})"
      ],
      "metadata": {
        "colab": {
          "base_uri": "https://localhost:8080/"
        },
        "id": "Osk7a7cChNK1",
        "outputId": "c1f92869-356d-4c2e-8464-2f08dd9caa2e"
      },
      "execution_count": null,
      "outputs": [
        {
          "output_type": "stream",
          "name": "stdout",
          "text": [
            "{0, 1, 4, 9}\n"
          ]
        }
      ]
    },
    {
      "cell_type": "code",
      "source": [
        "a=[1,2,3,4]\n",
        "b=[sum(a[0:x+1]) for x in range(0,len(a))]\n",
        "print(b)"
      ],
      "metadata": {
        "colab": {
          "base_uri": "https://localhost:8080/"
        },
        "id": "ejH6i9YghRSF",
        "outputId": "581a3108-2249-4b44-d449-b53982caaf38"
      },
      "execution_count": null,
      "outputs": [
        {
          "output_type": "stream",
          "name": "stdout",
          "text": [
            "[1, 3, 6, 10]\n"
          ]
        }
      ]
    },
    {
      "cell_type": "code",
      "source": [
        "college_years = ['Freshman', 'Sophomore', 'Junior', 'Senior']\n",
        "print(list(enumerate(college_years, 2019)))"
      ],
      "metadata": {
        "colab": {
          "base_uri": "https://localhost:8080/"
        },
        "id": "yg49Q2RahsRs",
        "outputId": "19feaeb1-6212-48df-a845-03f0ccd6b1dd"
      },
      "execution_count": null,
      "outputs": [
        {
          "output_type": "stream",
          "name": "stdout",
          "text": [
            "[(2019, 'Freshman'), (2020, 'Sophomore'), (2021, 'Junior'), (2022, 'Senior')]\n"
          ]
        }
      ]
    },
    {
      "cell_type": "code",
      "source": [
        "fruits = ['Apples', 'Oranges', 'Bananas']\n",
        "quantities = [5, 3, 4]\n",
        "prices = [1.50, 2.25, 0.89]\n",
        "# Desired output\n",
        "[('Apples', 5, 1.50),\n",
        "('Oranges', 3, 2.25),\n",
        "('Bananas', 4, 0.89)]"
      ],
      "metadata": {
        "colab": {
          "base_uri": "https://localhost:8080/"
        },
        "id": "4W1vWEHbhydG",
        "outputId": "62c58d3b-d714-4579-f904-390593bdbc9d"
      },
      "execution_count": null,
      "outputs": [
        {
          "output_type": "execute_result",
          "data": {
            "text/plain": [
              "[('Apples', 5, 1.5), ('Oranges', 3, 2.25), ('Bananas', 4, 0.89)]"
            ]
          },
          "metadata": {},
          "execution_count": 15
        }
      ]
    },
    {
      "cell_type": "code",
      "source": [
        "tuple(fruits)"
      ],
      "metadata": {
        "colab": {
          "base_uri": "https://localhost:8080/"
        },
        "id": "DxMTuDSBqwTc",
        "outputId": "d8c3bfe7-243d-4ee4-d160-9da462eb0e3e"
      },
      "execution_count": null,
      "outputs": [
        {
          "output_type": "execute_result",
          "data": {
            "text/plain": [
              "('Apples', 'Oranges', 'Bananas')"
            ]
          },
          "metadata": {},
          "execution_count": 19
        }
      ]
    },
    {
      "cell_type": "code",
      "source": [
        "fruits = {'Apples', 'Oranges', 'Bananas'}\n",
        "tuple(fruits)\n"
      ],
      "metadata": {
        "colab": {
          "base_uri": "https://localhost:8080/"
        },
        "id": "OmEoZxUYsCbX",
        "outputId": "39397af6-fd58-4432-fe40-82595acce236"
      },
      "execution_count": null,
      "outputs": [
        {
          "output_type": "execute_result",
          "data": {
            "text/plain": [
              "('Apples', 'Bananas', 'Oranges')"
            ]
          },
          "metadata": {},
          "execution_count": 21
        }
      ]
    }
  ]
}